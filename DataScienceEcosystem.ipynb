{
 "cells": [
  {
   "cell_type": "markdown",
   "id": "2327f6be-da38-4d7d-86c2-08ffe6ec3a4d",
   "metadata": {},
   "source": [
    "# Data Science Tools and Ecosystem"
   ]
  },
  {
   "cell_type": "markdown",
   "id": "d8fc59f2-1eb9-4805-b9b0-8994ec618589",
   "metadata": {},
   "source": [
    "In this notebook, Data Science Tools and Ecosystem are summarized."
   ]
  },
  {
   "cell_type": "markdown",
   "id": "e27e0713-050b-4c6d-837f-698efaad6552",
   "metadata": {},
   "source": [
    "Some of the popular languages that Data Scientists use are:\n",
    "1. Python\n",
    "2. R\n",
    "3. SQL"
   ]
  },
  {
   "cell_type": "markdown",
   "id": "21221e30-8763-4864-8956-1319be44f2a9",
   "metadata": {},
   "source": [
    "Some of the commonly used libraries used by Data Scientists include:\n",
    "1. Pandas (Scientific computing library for Python)\n",
    "2. Matplotlib (Data visualization library for Python)\n",
    "3. Scikit-learn (Machine learning library for Python)"
   ]
  },
  {
   "cell_type": "markdown",
   "id": "fea1ebe1-2129-44f1-8f06-d047f0e7e5a9",
   "metadata": {},
   "source": [
    "|Data Science Tools|\n",
    "|---|\n",
    "|Anaconda|\n",
    "|Visual Studio Code|\n",
    "|Jupyter Lite|"
   ]
  },
  {
   "cell_type": "markdown",
   "id": "02ed05b2-7478-4382-b686-0f9b0e586f51",
   "metadata": {},
   "source": [
    "### Below are a few examples of evaluating arithmetic expressions in Python\n",
    "(+ - / *)"
   ]
  },
  {
   "cell_type": "markdown",
   "id": "80bee753-5722-434d-9dd7-55e98c1fb52d",
   "metadata": {},
   "source": [
    "This a simple arithmetic expression to multiply then add integers"
   ]
  },
  {
   "cell_type": "code",
   "execution_count": 9,
   "id": "6efc2de6-f1d6-479c-841e-e90abc2439cd",
   "metadata": {
    "tags": []
   },
   "outputs": [
    {
     "data": {
      "text/plain": [
       "17"
      ]
     },
     "execution_count": 9,
     "metadata": {},
     "output_type": "execute_result"
    }
   ],
   "source": [
    "(3*4)+5"
   ]
  },
  {
   "cell_type": "markdown",
   "id": "26a3753f-8c9a-49bc-a891-b8bc7acf59ce",
   "metadata": {},
   "source": [
    "This will convert 200 minutes to hours by diving by 60"
   ]
  },
  {
   "cell_type": "code",
   "execution_count": 10,
   "id": "34c00b49-9a7d-441d-9405-73674b10d02a",
   "metadata": {
    "tags": []
   },
   "outputs": [
    {
     "data": {
      "text/plain": [
       "3.3333333333333335"
      ]
     },
     "execution_count": 10,
     "metadata": {},
     "output_type": "execute_result"
    }
   ],
   "source": [
    "200/60"
   ]
  },
  {
   "cell_type": "markdown",
   "id": "273afd4e-3734-44e3-9c77-398adc7c3dd0",
   "metadata": {},
   "source": [
    "__Objectives:__\n",
    "+ Create a Jupyter Notebook\n",
    "+ Create markdown cell with title of the notebook\n",
    "+ Create a markdown cell for an introduction\n",
    "+ Create a markdown cell to list data science languages\n",
    "+ Create a markdown cell to list data science libraries"
   ]
  },
  {
   "cell_type": "markdown",
   "id": "78265764-f70f-4855-9d21-f15a7730b888",
   "metadata": {},
   "source": [
    "## Author\n",
    "Tom"
   ]
  },
  {
   "cell_type": "code",
   "execution_count": null,
   "id": "28a17d56-ea7c-4631-9897-cc8a32c248d5",
   "metadata": {},
   "outputs": [],
   "source": []
  }
 ],
 "metadata": {
  "kernelspec": {
   "display_name": "Python",
   "language": "python",
   "name": "conda-env-python-py"
  },
  "language_info": {
   "codemirror_mode": {
    "name": "ipython",
    "version": 3
   },
   "file_extension": ".py",
   "mimetype": "text/x-python",
   "name": "python",
   "nbconvert_exporter": "python",
   "pygments_lexer": "ipython3",
   "version": "3.7.12"
  }
 },
 "nbformat": 4,
 "nbformat_minor": 5
}
